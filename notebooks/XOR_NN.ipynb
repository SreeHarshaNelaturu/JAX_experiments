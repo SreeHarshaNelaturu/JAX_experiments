{
 "cells": [
  {
   "cell_type": "code",
   "execution_count": null,
   "metadata": {},
   "outputs": [],
   "source": [
    "import numpy as onp\n",
    "import jax.numpy as np\n",
    "\n",
    "from jax import grad, jit, random\n",
    "\n",
    "key = random.PRNGKey(1)"
   ]
  },
  {
   "cell_type": "code",
   "execution_count": null,
   "metadata": {},
   "outputs": [],
   "source": [
    "X = np.array([[0, 0], [0, 1], [1, 0], [1, 1]])\n",
    "Y = np.array([0, 1, 1, 0])\n",
    "learning_rate = 1.0"
   ]
  },
  {
   "cell_type": "code",
   "execution_count": null,
   "metadata": {},
   "outputs": [],
   "source": [
    "def sigmoid(x):\n",
    "    return 1 / ( 1 + np.exp(-x))\n",
    "\n",
    "def neural_network(num_layers, key):\n",
    "    network_params = {}\n",
    "    keys = random.split(key, num_layers)\n",
    "    \n",
    "    #layer 1\n",
    "    w_key, b_key = random.split(keys[0])\n",
    "    network_params['w_1'] = random.normal(w_key, (3, 2))\n",
    "    network_params['b_1'] = random.normal(b_key, (3, ))\n",
    "    w_key, b_key = random.split(keys[1])\n",
    "    network_params['w_2'] = random.normal(w_key, (3,))\n",
    "    network_params['b_2'] = random.normal(w_key, (1,))\n",
    "    \n",
    "    return network_params       "
   ]
  },
  {
   "cell_type": "code",
   "execution_count": 7,
   "metadata": {},
   "outputs": [],
   "source": [
    "params = neural_network(2, key)\n",
    "\n",
    "jit_sigmoid = jit(sigmoid)\n",
    "\n",
    "def fwd_pass(params, x):\n",
    "        \n",
    "    inp_to_h1 =sigmoid(np.dot(params['w_1'], x) + params['b_1'])\n",
    "    out =sigmoid(np.dot(params['w_2'], inp_to_h1) + params['b_2'])\n",
    "    \n",
    "    return out\n",
    "\n",
    "fwd_pass = jit(fwd_pass)\n",
    "\n",
    "def loss(params, x, y):\n",
    "    y_pred = fwd_pass(params, x)\n",
    "    \n",
    "    val = - (y * np.log(y_pred) + (1 - y)*np.log(1 - y_pred))\n",
    "    \n",
    "    return val[0]\n",
    "\n",
    "loss = jit(loss)\n",
    "\n",
    "\n",
    "loss_grad = jit(grad(loss))\n",
    "    "
   ]
  },
  {
   "cell_type": "code",
   "execution_count": 8,
   "metadata": {
    "scrolled": true
   },
   "outputs": [
    {
     "name": "stdout",
     "output_type": "stream",
     "text": [
      "['X: [0 0] Y: 0', 'X: [0 1] Y: 1', 'X: [1 0] Y: 1', 'X: [1 1] Y: 0']\n"
     ]
    }
   ],
   "source": [
    "for i in range(300):\n",
    "    for x, y in zip(X, Y):\n",
    "        grads = loss_grad(params, x, y)\n",
    "        #print(params)\n",
    "        for key in params.keys():\n",
    "            params[key] = params[key] - learning_rate * grads[key]            \n",
    "\n",
    "predictions = [f\"X: {x} Y: {int(fwd_pass(params, x) > 0.5)}\" for x in X]\n",
    "print(predictions)      \n",
    "    "
   ]
  }
 ],
 "metadata": {
  "kernelspec": {
   "display_name": "Python 3.6.10 64-bit ('pt_36': conda)",
   "language": "python",
   "name": "python361064bitpt36condae3e1a72d28c3471788eb7ee1d404ab9a"
  },
  "language_info": {
   "codemirror_mode": {
    "name": "ipython",
    "version": 3
   },
   "file_extension": ".py",
   "mimetype": "text/x-python",
   "name": "python",
   "nbconvert_exporter": "python",
   "pygments_lexer": "ipython3",
   "version": "3.6.10"
  }
 },
 "nbformat": 4,
 "nbformat_minor": 4
}
